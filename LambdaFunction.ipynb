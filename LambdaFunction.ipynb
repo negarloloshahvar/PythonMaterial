{
 "cells": [
  {
   "cell_type": "markdown",
   "id": "2d90f7d4",
   "metadata": {},
   "source": [
    "# lambda Functions\n",
    "In this lab, I am going to tell you all about lambda and lambda functions. What they are, how to define them and what is their functionality and usage? Ready? Let's start with an example.\n",
    "\n",
    "## Example 1\n",
    "This is a normal function:"
   ]
  },
  {
   "cell_type": "code",
   "execution_count": 20,
   "id": "f34d7954",
   "metadata": {},
   "outputs": [
    {
     "data": {
      "text/plain": [
       "3.5"
      ]
     },
     "execution_count": 20,
     "metadata": {},
     "output_type": "execute_result"
    }
   ],
   "source": [
    "def mean(num1, num2):\n",
    "    return (num1 + num2) / 2\n",
    "mean(2, 5)"
   ]
  },
  {
   "cell_type": "markdown",
   "id": "06ed87e1",
   "metadata": {},
   "source": [
    "Let's write this function in a differnt way. I wrote it all in one line and it still works:"
   ]
  },
  {
   "cell_type": "code",
   "execution_count": 21,
   "id": "8fe65972",
   "metadata": {},
   "outputs": [
    {
     "data": {
      "text/plain": [
       "3.5"
      ]
     },
     "execution_count": 21,
     "metadata": {},
     "output_type": "execute_result"
    }
   ],
   "source": [
    "def mean(num1, num2): return (num1 + num2) / 2\n",
    "mean(2, 5)"
   ]
  },
  {
   "cell_type": "markdown",
   "id": "0115d628",
   "metadata": {},
   "source": [
    "Now, let's turn this normal function into a lambda function:"
   ]
  },
  {
   "cell_type": "code",
   "execution_count": 22,
   "id": "db345656",
   "metadata": {},
   "outputs": [
    {
     "data": {
      "text/plain": [
       "3.5"
      ]
     },
     "execution_count": 22,
     "metadata": {},
     "output_type": "execute_result"
    }
   ],
   "source": [
    "mean = lambda num1, num2: (num1 + num2) / 2\n",
    "mean(2, 5)"
   ]
  },
  {
   "cell_type": "markdown",
   "id": "79e9d6e0",
   "metadata": {},
   "source": [
    "# So, what is lambda?\n",
    "lambda is a keyword that is used to define a lambda function.\n",
    "# What is a lambda function?\n",
    "A lambda function is a temporary one-time-used function that is useful when we need a function to do something for us just one time and we don't want to define a whole function with a name and a return statement etc. \n",
    "The standard notation for defining a lambda function is:\n",
    "\n",
    "**function_name = lambda parameters: expression**\n",
    "\n",
    "Note that:\n",
    "- function_name is totally optional and is usually omitted.\n",
    "- we can define one or more parameters.\n",
    "- expression illustrates what should be returned and is only one.\n",
    "\n",
    "# Usage\n",
    "lambda functions are usually used along with ```map()```, ```filter()```, and ```sort()``` functions. Let's understand this more with an example:\n"
   ]
  },
  {
   "cell_type": "markdown",
   "id": "79dcd17b",
   "metadata": {},
   "source": [
    "## Example 2"
   ]
  },
  {
   "cell_type": "markdown",
   "id": "652dd3fc",
   "metadata": {},
   "source": [
    "We want to get a list as input and return a list with each item of the input list squared. Without the lambda function we could do something like this:"
   ]
  },
  {
   "cell_type": "code",
   "execution_count": 5,
   "id": "b956f346",
   "metadata": {},
   "outputs": [
    {
     "data": {
      "text/plain": [
       "[4, 16, 36, 64]"
      ]
     },
     "execution_count": 5,
     "metadata": {},
     "output_type": "execute_result"
    }
   ],
   "source": [
    "def square(number):\n",
    "    return number ** 2\n",
    "\n",
    "my_list = [2, 4, 6 , 8]\n",
    "squared = []\n",
    "for number in my_list:\n",
    "    squared.append(square(number))\n",
    "squared"
   ]
  },
  {
   "cell_type": "markdown",
   "id": "0eb19b70",
   "metadata": {},
   "source": [
    "Now let's try to do this using a lambda and a map() function.\n",
    "\n",
    "The ```map()``` function (which is a built-in function in Python) is used to apply a function to each item in an iterable (like a Python list or dictionary). It returns a new iterable (a map object) that you can use in other parts of your code.\n",
    "\n",
    "```map(function, iterable, [iterable1, iterable2, ...])```"
   ]
  },
  {
   "cell_type": "code",
   "execution_count": 10,
   "id": "888b6aef",
   "metadata": {},
   "outputs": [
    {
     "data": {
      "text/plain": [
       "[4, 16, 36, 64]"
      ]
     },
     "execution_count": 10,
     "metadata": {},
     "output_type": "execute_result"
    }
   ],
   "source": [
    "my_list = [2, 4, 6, 8]\n",
    "squared = list(map(lambda item: item ** 2, my_list))\n",
    "squared"
   ]
  },
  {
   "cell_type": "markdown",
   "id": "53f78926",
   "metadata": {},
   "source": [
    "See? using lambda allows us to write a shorter and cleaner code.\n",
    "\n",
    "Now, let's see how we can use lambda in a ```filter()``` function:\n",
    "\n",
    "## Example 3"
   ]
  },
  {
   "cell_type": "code",
   "execution_count": 11,
   "id": "243986e8",
   "metadata": {},
   "outputs": [
    {
     "data": {
      "text/plain": [
       "[36, 64]"
      ]
     },
     "execution_count": 11,
     "metadata": {},
     "output_type": "execute_result"
    }
   ],
   "source": [
    "list(filter(lambda item: item > 20, squared))"
   ]
  }
 ],
 "metadata": {
  "kernelspec": {
   "display_name": "Python 3 (ipykernel)",
   "language": "python",
   "name": "python3"
  },
  "language_info": {
   "codemirror_mode": {
    "name": "ipython",
    "version": 3
   },
   "file_extension": ".py",
   "mimetype": "text/x-python",
   "name": "python",
   "nbconvert_exporter": "python",
   "pygments_lexer": "ipython3",
   "version": "3.9.13"
  }
 },
 "nbformat": 4,
 "nbformat_minor": 5
}
